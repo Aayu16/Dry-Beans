{
 "cells": [
  {
   "cell_type": "code",
   "execution_count": 1,
   "id": "b64a2456",
   "metadata": {},
   "outputs": [],
   "source": [
    "import pandas as pd\n",
    "import matplotlib.pyplot as plt\n",
    "import seaborn as sns\n",
    "from sklearn.model_selection import train_test_split\n",
    "from sklearn.linear_model import LinearRegression\n",
    "import numpy as np\n"
   ]
  },
  {
   "cell_type": "code",
   "execution_count": 2,
   "id": "f5effff9",
   "metadata": {},
   "outputs": [],
   "source": [
    "\n",
    "from sklearn.preprocessing import LabelEncoder\n",
    "\n",
    "# Load the Dry Bean dataset into a pandas DataFrame\n",
    "df = pd.read_csv(\"Dry_Bean.csv\")\n",
    "\n",
    "# Create a LabelEncoder object\n",
    "le = LabelEncoder()\n",
    "\n"
   ]
  },
  {
   "cell_type": "code",
   "execution_count": 3,
   "id": "2ff7aac7",
   "metadata": {},
   "outputs": [
    {
     "data": {
      "text/plain": [
       "0        208.178117\n",
       "1        200.524796\n",
       "2        212.826130\n",
       "3        210.557999\n",
       "4        201.847882\n",
       "            ...    \n",
       "13606    288.721612\n",
       "13607    281.576392\n",
       "13608    281.539928\n",
       "13609    283.382636\n",
       "13610    295.142741\n",
       "Name: MajorAxisLength, Length: 13611, dtype: float64"
      ]
     },
     "execution_count": 3,
     "metadata": {},
     "output_type": "execute_result"
    }
   ],
   "source": [
    "df.pop('MajorAxisLength')"
   ]
  },
  {
   "cell_type": "code",
   "execution_count": 4,
   "id": "858a39ee",
   "metadata": {},
   "outputs": [
    {
     "data": {
      "text/plain": [
       "Index(['Area', 'Perimeter', 'MinorAxisLength', 'AspectRation', 'Eccentricity',\n",
       "       'ConvexArea', 'EquivDiameter', 'Extent', 'Solidity', 'roundness',\n",
       "       'Compactness', 'ShapeFactor1', 'ShapeFactor2', 'ShapeFactor3',\n",
       "       'ShapeFactor4', 'Class'],\n",
       "      dtype='object')"
      ]
     },
     "execution_count": 4,
     "metadata": {},
     "output_type": "execute_result"
    }
   ],
   "source": [
    "df.columns"
   ]
  },
  {
   "cell_type": "code",
   "execution_count": 5,
   "id": "8c8ae86d",
   "metadata": {},
   "outputs": [],
   "source": [
    "X = df.drop('Class', axis=1)\n",
    "y = df[['Class']]\n",
    "z = np.ravel(y)"
   ]
  },
  {
   "cell_type": "code",
   "execution_count": 6,
   "id": "6a882625",
   "metadata": {},
   "outputs": [
    {
     "name": "stdout",
     "output_type": "stream",
     "text": [
      "['SEKER' 'SEKER' 'SEKER' ... 'DERMASON' 'DERMASON' 'DERMASON']\n"
     ]
    }
   ],
   "source": [
    "print(z)"
   ]
  },
  {
   "cell_type": "code",
   "execution_count": 7,
   "id": "c69430ec",
   "metadata": {},
   "outputs": [],
   "source": [
    "label_mapping={'SEKER':0,\n",
    "              'BARBUNYA':1,\n",
    "              'BOMBAY':2,\n",
    "              'CALI':3,\n",
    "              'HOROZ':4,\n",
    "              'SIRA':5,\n",
    "              'DERMASON':6}\n",
    "df['Class']=df['Class'].map(label_mapping)\n",
    "y=np.array(df)\n"
   ]
  },
  {
   "cell_type": "code",
   "execution_count": 8,
   "id": "31e398ef",
   "metadata": {},
   "outputs": [
    {
     "name": "stdout",
     "output_type": "stream",
     "text": [
      "(13611, 16)\n",
      "[[2.83950000e+04 6.10291000e+02 1.73888747e+02 ... 8.34222388e-01\n",
      "  9.98723889e-01 0.00000000e+00]\n",
      " [2.87340000e+04 6.38018000e+02 1.82734419e+02 ... 9.09850506e-01\n",
      "  9.98430331e-01 0.00000000e+00]\n",
      " [2.93800000e+04 6.24110000e+02 1.75931143e+02 ... 8.25870617e-01\n",
      "  9.99066137e-01 0.00000000e+00]\n",
      " ...\n",
      " [4.21390000e+04 7.59321000e+02 1.91187979e+02 ... 6.76884164e-01\n",
      "  9.96767264e-01 6.00000000e+00]\n",
      " [4.21470000e+04 7.63779000e+02 1.90275731e+02 ... 6.68236684e-01\n",
      "  9.95222420e-01 6.00000000e+00]\n",
      " [4.21590000e+04 7.72237000e+02 1.82204716e+02 ... 6.16220592e-01\n",
      "  9.98179623e-01 6.00000000e+00]]\n"
     ]
    }
   ],
   "source": [
    "print(y.shape)\n",
    "print(y)"
   ]
  },
  {
   "cell_type": "code",
   "execution_count": 9,
   "id": "7295a38c",
   "metadata": {},
   "outputs": [
    {
     "name": "stdout",
     "output_type": "stream",
     "text": [
      "R-squared score: 0.9857404175254698\n"
     ]
    }
   ],
   "source": [
    "X_train, X_test, y_train, y_test = train_test_split(X, y, test_size=0.2, random_state=0)\n",
    "\n",
    "# Train the linear regression model\n",
    "regressor = LinearRegression()\n",
    "regressor.fit(X_train, y_train)\n",
    "\n",
    "# Make predictions on the test set\n",
    "y_pred = regressor.predict(X_test)\n",
    "\n",
    "# Evaluate the model's performance\n",
    "print('R-squared score:', regressor.score(X_test, y_test))"
   ]
  },
  {
   "cell_type": "code",
   "execution_count": 10,
   "id": "fedf8307",
   "metadata": {},
   "outputs": [
    {
     "data": {
      "image/png": "[encoded data removed]",
      "text/plain": [
       "<Figure size 640x480 with 1 Axes>"
      ]
     },
     "metadata": {},
     "output_type": "display_data"
    }
   ],
   "source": [
    "regressor.fit(X_train, y_train)\n",
    "\n",
    "# Predict the output using the trained model\n",
    "y_pred = regressor.predict(X_test)\n",
    "\n",
    "# Plot the actual vs predicted values\n",
    "plt.scatter(y_test, y_pred)\n",
    "plt.xlabel('Actual Values')\n",
    "plt.ylabel('Predicted Values')\n",
    "\n",
    "# Plot the line of best fit\n",
    "plt.plot(range(10), range(10))\n",
    "plt.show()"
   ]
  },
  {
   "cell_type": "code",
   "execution_count": 11,
   "id": "e8c2b72f",
   "metadata": {},
   "outputs": [
    {
     "name": "stdout",
     "output_type": "stream",
     "text": [
      "[-4.36557457e-11 -3.75166564e-12 -1.13686838e-13  6.28386232e-14\n",
      " -1.59872116e-14 -2.18278728e-11  6.82121026e-13  2.33146835e-15\n",
      "  4.10782519e-15  4.88498131e-15 -5.21804822e-15  9.62771529e-17\n",
      "  2.31368744e-16  1.11022302e-15  3.66373598e-15 -1.41699641e+03]\n",
      "[[ 1.00000000e+00 -1.03264589e-15 -1.12778475e-13  1.87097919e-12\n",
      "  -3.73887881e-13  5.99397153e-16  1.04892039e-13  5.54532221e-13\n",
      "   5.21916012e-12 -9.85484136e-13  5.83602978e-11  1.09150397e-09\n",
      "  -3.58004831e-09  5.27764742e-12 -2.39929304e-11]\n",
      " [ 1.16513453e-16  1.00000000e+00  2.06497146e-15 -5.59996771e-13\n",
      "   3.35756644e-13  0.00000000e+00 -9.25908655e-16 -8.38505041e-15\n",
      "   4.88535967e-13 -3.55950704e-14 -1.22022549e-11 -2.40972386e-12\n",
      "  -2.64955653e-12  6.27877929e-12  7.96426019e-13]\n",
      " [ 3.33310058e-18  4.96564595e-17  1.00000000e+00 -6.32162985e-14\n",
      "  -4.69480530e-14 -4.98732999e-18 -1.55760889e-17 -1.31109481e-15\n",
      "  -8.56918680e-15  1.61548694e-14 -6.37920883e-13 -7.52093903e-13\n",
      "   3.58688640e-12  2.67879276e-13  6.48466139e-14]\n",
      " [ 8.07856652e-19  3.08879035e-17 -3.59634648e-16  1.00000000e+00\n",
      "  -1.14941455e-15 -4.36221968e-19  2.47014056e-17 -1.24282268e-16\n",
      "  -1.55291413e-16 -1.63180715e-16 -1.03922296e-14 -1.40462239e-14\n",
      "   3.22754814e-14  5.73122289e-15  1.66901106e-15]\n",
      " [ 4.81145647e-19  1.19344825e-17  1.66077154e-16  3.89441381e-15\n",
      "   1.00000000e+00 -4.58138945e-19 -1.78340283e-16 -5.01099249e-17\n",
      "   7.67482276e-16 -1.61676395e-16 -1.17728506e-14 -2.02532031e-15\n",
      "   1.96873395e-14  7.76035665e-15  1.52580032e-15]\n",
      " [ 9.89031994e-16  1.22124533e-15 -7.59548674e-15 -7.18787452e-13\n",
      "   2.10384312e-13  1.00000000e+00  3.28513258e-16 -1.12124143e-14\n",
      "   6.32362797e-13 -7.60703259e-14 -4.00108054e-12 -3.07650214e-12\n",
      "   1.12643444e-11  2.27905581e-12  2.62290557e-13]\n",
      " [ 2.79819696e-19 -4.11996826e-17 -2.48596758e-15 -2.18525700e-13\n",
      "  -6.89337413e-14 -6.50521303e-19  1.00000000e+00 -3.04867827e-15\n",
      "  -9.74917051e-14  2.72116877e-14 -1.00080789e-12 -2.71498175e-12\n",
      "   5.29834296e-12  4.30195628e-13  1.56262330e-13]\n",
      " [-5.93814659e-20 -1.11240572e-18  7.83562430e-18 -3.93303742e-17\n",
      "   5.65561953e-16  5.09543257e-20 -2.08745981e-19  1.00000000e+00\n",
      "   3.20325685e-15 -5.34019770e-16 -8.13385704e-15 -1.77929429e-14\n",
      "   7.73408254e-14  4.25217361e-15  8.22331839e-16]\n",
      " [-2.14044860e-20 -3.85896299e-19 -4.07147535e-18 -3.80838923e-16\n",
      "   8.59317164e-16  2.05703275e-20  4.22582277e-18 -6.94540469e-17\n",
      "   1.00000000e+00 -2.84973446e-16 -5.76792613e-15 -8.69803240e-15\n",
      "   2.59683124e-14  3.88279647e-15  1.33419556e-15]\n",
      " [-7.87112982e-20  8.26174761e-19  4.16145860e-18 -2.96377047e-16\n",
      "   7.99262098e-17  6.46921413e-20 -3.81798529e-18  7.17818989e-17\n",
      "   1.39537348e-15  1.00000000e+00 -5.13798206e-15 -3.60715739e-15\n",
      "   8.30716909e-15  2.07756372e-15  2.17926251e-17]\n",
      " [-7.17805198e-20 -9.43382945e-20  6.86971979e-18  4.11479162e-16\n",
      "  -7.64391833e-17  5.78099987e-20 -3.65074674e-18 -2.08598532e-17\n",
      "  -5.10543905e-16 -9.23702677e-17  1.00000000e+00  2.36758331e-15\n",
      "  -1.29165727e-14 -9.48926917e-16  8.93571567e-17]\n",
      " [ 5.45013463e-21  7.82248162e-20  6.13932094e-20  3.93106462e-17\n",
      "  -3.74862979e-17 -5.20792914e-21 -4.32012045e-19  2.35943816e-18\n",
      "  -6.81730243e-16  6.94200658e-17  6.58004940e-16  1.00000000e+00\n",
      "   8.33054457e-16 -3.87001451e-16  2.10228856e-16]\n",
      " [ 1.97534650e-21  3.32791304e-20  7.93923816e-20 -1.12248976e-17\n",
      "   1.81834063e-18 -2.03320995e-21 -1.78040523e-19  5.95907414e-19\n",
      "  -2.30344232e-16  2.50037943e-17 -2.17386994e-16 -4.56695374e-17\n",
      "   1.00000000e+00  9.72292819e-17  1.04535176e-16]\n",
      " [ 2.49118132e-20  2.49366500e-18  8.70101856e-18 -4.79543400e-17\n",
      "  -2.51192492e-17 -4.43633506e-20 -1.37908180e-17  1.01845783e-16\n",
      "   5.48644289e-16  1.38846331e-16  3.03635420e-15  5.81996244e-15\n",
      "  -2.29258125e-14  1.00000000e+00 -6.02619017e-16]\n",
      " [ 2.16711150e-20  2.81896535e-19 -4.72179102e-18 -2.71520567e-16\n",
      "  -3.42979420e-16 -2.09905352e-20  3.76669199e-18  1.12229946e-16\n",
      "  -1.59111797e-15  5.62605661e-17  4.33940561e-15  1.00112361e-14\n",
      "  -2.08709148e-14 -2.74812621e-15  1.00000000e+00]\n",
      " [ 6.22764605e-04  1.07781943e-03  2.34629451e-01  1.63307380e+02\n",
      "  -1.46326098e+02 -4.49995846e-04 -3.05465332e-01 -6.05119850e-01\n",
      "  -9.44322532e+00  8.98729143e+00  3.57036705e+03 -2.89595001e+03\n",
      "   9.18888873e+03 -2.05729318e+03 -2.35718908e+02]]\n"
     ]
    }
   ],
   "source": [
    "print(regressor.intercept_)\n",
    "print(regressor.coef_)"
   ]
  },
  {
   "cell_type": "code",
   "execution_count": 12,
   "id": "ed3d978d",
   "metadata": {},
   "outputs": [
    {
     "name": "stdout",
     "output_type": "stream",
     "text": [
      "[[2.83950000e+04 6.10291000e+02 1.73888747e+02 ... 8.34222388e-01\n",
      "  9.98723889e-01 2.06190063e+00]\n",
      " [2.87340000e+04 6.38018000e+02 1.82734419e+02 ... 9.09850506e-01\n",
      "  9.98430331e-01 1.04492131e+00]\n",
      " [2.93800000e+04 6.24110000e+02 1.75931143e+02 ... 8.25870617e-01\n",
      "  9.99066137e-01 1.85555325e+00]\n",
      " ...\n",
      " [4.21390000e+04 7.59321000e+02 1.91187979e+02 ... 6.76884164e-01\n",
      "  9.96767264e-01 4.49064942e+00]\n",
      " [4.21470000e+04 7.63779000e+02 1.90275731e+02 ... 6.68236684e-01\n",
      "  9.95222420e-01 4.76195780e+00]\n",
      " [4.21590000e+04 7.72237000e+02 1.82204716e+02 ... 6.16220592e-01\n",
      "  9.98179623e-01 4.96553732e+00]]\n"
     ]
    }
   ],
   "source": [
    "y_pred=regressor.predict(X)\n",
    "print(y_pred)"
   ]
  },
  {
   "cell_type": "code",
   "execution_count": 13,
   "id": "199cd4fe",
   "metadata": {},
   "outputs": [
    {
     "name": "stdout",
     "output_type": "stream",
     "text": [
      "(13611, 15)\n",
      "(13611,)\n"
     ]
    }
   ],
   "source": [
    "print(X.shape)\n",
    "print(z.shape)"
   ]
  },
  {
   "cell_type": "code",
   "execution_count": 14,
   "id": "aa6032b0",
   "metadata": {},
   "outputs": [],
   "source": [
    "X_train, X_test, z_train, z_test = train_test_split(X, z, test_size=0.2, random_state=0)\n",
    "\n",
    "# Naive Bayes\n",
    "from sklearn.naive_bayes import GaussianNB\n",
    "naive_bayes = GaussianNB()\n",
    "naive_bayes.fit(X_train, z_train)\n",
    "z_pred=regressor.predict(X)"
   ]
  },
  {
   "cell_type": "code",
   "execution_count": 45,
   "id": "2b6b0b33",
   "metadata": {},
   "outputs": [
    {
     "name": "stderr",
     "output_type": "stream",
     "text": [
      "C:\\Users\\rajes\\AppData\\Local\\Programs\\Python\\Python310\\lib\\site-packages\\sklearn\\linear_model\\_logistic.py:458: ConvergenceWarning: lbfgs failed to converge (status=1):\n",
      "STOP: TOTAL NO. of ITERATIONS REACHED LIMIT.\n",
      "\n",
      "Increase the number of iterations (max_iter) or scale the data as shown in:\n",
      "    https://scikit-learn.org/stable/modules/preprocessing.html\n",
      "Please also refer to the documentation for alternative solver options:\n",
      "    https://scikit-learn.org/stable/modules/linear_model.html#logistic-regression\n",
      "  n_iter_i = _check_optimize_result(\n"
     ]
    },
    {
     "data": {
      "image/png": "[encoded data removed]",
      "text/plain": [
       "<Figure size 640x480 with 2 Axes>"
      ]
     },
     "metadata": {},
     "output_type": "display_data"
    }
   ],
   "source": [
    "from sklearn.linear_model import LogisticRegression\n",
    "logistic_regression = LogisticRegression()\n",
    "logistic_regression.fit(X_train, z_train)\n",
    "\n",
    "# Plotting the results\n",
    "import matplotlib.pyplot as plt\n",
    "import seaborn as sns\n",
    "\n",
    "z_pred = logistic_regression.predict(X_test)\n",
    "confusion_matrix = pd.crosstab(z_test, z_pred, rownames=['Actual'], colnames=['Predicted'])\n",
    "sns.heatmap(confusion_matrix, annot=True)\n",
    "plt.show()"
   ]
  },
  {
   "cell_type": "code",
   "execution_count": 18,
   "id": "eb8cff5d",
   "metadata": {},
   "outputs": [
    {
     "name": "stdout",
     "output_type": "stream",
     "text": [
      "accuracy=  ['DERMASON' 'DERMASON' 'SEKER' ... 'SEKER' 'HOROZ' 'DERMASON']\n"
     ]
    },
    {
     "data": {
      "text/plain": [
       "0.6929856775615131"
      ]
     },
     "execution_count": 18,
     "metadata": {},
     "output_type": "execute_result"
    }
   ],
   "source": [
    "from sklearn.neighbors import KNeighborsClassifier\n",
    "from sklearn import metrics\n",
    "knn = KNeighborsClassifier(n_neighbors=10,weights='uniform')\n",
    "knn.fit(X_train, z_train)\n",
    "predictions=knn.predict(X_test)\n",
    "accuracy=metrics.accuracy_score(z_test,predictions)\n",
    "print(\"accuracy= \",predictions)\n",
    "pred = knn.predict(X_test)\n",
    "metrics.accuracy_score(z_test,pred)\n"
   ]
  },
  {
   "cell_type": "code",
   "execution_count": 16,
   "id": "14ecc32a",
   "metadata": {},
   "outputs": [
    {
     "name": "stdout",
     "output_type": "stream",
     "text": [
      "SVC()\n"
     ]
    }
   ],
   "source": [
    "# Support Vector Machines\n",
    "from sklearn import svm\n",
    "model=svm.SVC()\n",
    "model.fit(X_train, z_train)\n",
    "print(model)"
   ]
  },
  {
   "cell_type": "code",
   "execution_count": null,
   "id": "697ddba9",
   "metadata": {},
   "outputs": [],
   "source": []
  },
  {
   "cell_type": "code",
   "execution_count": null,
   "id": "262c10f2",
   "metadata": {},
   "outputs": [],
   "source": []
  }
 ],
 "metadata": {
  "kernelspec": {
   "display_name": "Python 3 (ipykernel)",
   "language": "python",
   "name": "python3"
  },
  "language_info": {
   "codemirror_mode": {
    "name": "ipython",
    "version": 3
   },
   "file_extension": ".py",
   "mimetype": "text/x-python",
   "name": "python",
   "nbconvert_exporter": "python",
   "pygments_lexer": "ipython3",
   "version": "3.10.8"
  }
 },
 "nbformat": 4,
 "nbformat_minor": 5
}
